{
 "metadata": {
  "orig_nbformat": 2,
  "kernelspec": {
   "name": "python385jvsc74a57bd031f2aee4e71d21fbe5cf8b01ff0e069b9275f58929596ceb00d14d90e3e16cd6",
   "display_name": "Python 3.8.5 64-bit"
  },
  "metadata": {
   "interpreter": {
    "hash": "916dbcbb3f70747c44a77c7bcd40155683ae19c65e1c03b4aa3499c5328201f1"
   }
  }
 },
 "nbformat": 4,
 "nbformat_minor": 2,
 "cells": [
  {
   "source": [
    "# Problem Statement\n",
    "\n",
    "1. Top Areas with the highest number of listing (mapping of listing pointers with their neighbourhood polygons)\n",
    "2. Thematic Map of the neighbourhood - broken down by single room, entire home.\n",
    "3. Top 10 hosts by their total number of listings.\n",
    "4. Personal Metric.\n",
    "\n",
    "\n"
   ],
   "cell_type": "markdown",
   "metadata": {}
  },
  {
   "cell_type": "code",
   "execution_count": 1,
   "metadata": {},
   "outputs": [],
   "source": [
    "import pandas as pd \n",
    "import numpy as np "
   ]
  },
  {
   "cell_type": "code",
   "execution_count": 2,
   "metadata": {},
   "outputs": [
    {
     "output_type": "execute_result",
     "data": {
      "text/plain": [
       "     id                                               name  host_id  \\\n",
       "0  2265   Zen-East in the Heart of Austin (monthly rental)     2466   \n",
       "1  5245  Eco friendly, Colorful, Clean, Cozy monthly share     2466   \n",
       "2  5456          Walk to 6th, Rainey St and Convention Ctr     8028   \n",
       "3  5636         Soco, Barton Springs Private Guest Cottage     7148   \n",
       "4  5769                                     NW Austin Room     8186   \n",
       "\n",
       "   host_name  neighbourhood_group  neighbourhood  latitude  longitude  \\\n",
       "0      Paddy                  NaN          78702  30.27750  -97.71398   \n",
       "1      Paddy                  NaN          78702  30.27577  -97.71379   \n",
       "2     Sylvia                  NaN          78702  30.26112  -97.73448   \n",
       "3      Peggy                  NaN          78704  30.24630  -97.76361   \n",
       "4  Elizabeth                  NaN          78729  30.45697  -97.78422   \n",
       "\n",
       "         room_type  price  minimum_nights  number_of_reviews last_review  \\\n",
       "0  Entire home/apt    200               7                 24  2019-03-16   \n",
       "1     Private room    114              30                  9  2018-03-14   \n",
       "2  Entire home/apt    104               2                543  2021-02-01   \n",
       "3  Entire home/apt     46              30                 21  2020-11-06   \n",
       "4     Private room     39               1                259  2021-02-10   \n",
       "\n",
       "   reviews_per_month  calculated_host_listings_count  availability_365  \n",
       "0               0.17                               3               131  \n",
       "1               0.06                               3                 0  \n",
       "2               3.74                               1               354  \n",
       "3               0.15                               2                67  \n",
       "4               1.96                               1                79  "
      ],
      "text/html": "<div>\n<style scoped>\n    .dataframe tbody tr th:only-of-type {\n        vertical-align: middle;\n    }\n\n    .dataframe tbody tr th {\n        vertical-align: top;\n    }\n\n    .dataframe thead th {\n        text-align: right;\n    }\n</style>\n<table border=\"1\" class=\"dataframe\">\n  <thead>\n    <tr style=\"text-align: right;\">\n      <th></th>\n      <th>id</th>\n      <th>name</th>\n      <th>host_id</th>\n      <th>host_name</th>\n      <th>neighbourhood_group</th>\n      <th>neighbourhood</th>\n      <th>latitude</th>\n      <th>longitude</th>\n      <th>room_type</th>\n      <th>price</th>\n      <th>minimum_nights</th>\n      <th>number_of_reviews</th>\n      <th>last_review</th>\n      <th>reviews_per_month</th>\n      <th>calculated_host_listings_count</th>\n      <th>availability_365</th>\n    </tr>\n  </thead>\n  <tbody>\n    <tr>\n      <th>0</th>\n      <td>2265</td>\n      <td>Zen-East in the Heart of Austin (monthly rental)</td>\n      <td>2466</td>\n      <td>Paddy</td>\n      <td>NaN</td>\n      <td>78702</td>\n      <td>30.27750</td>\n      <td>-97.71398</td>\n      <td>Entire home/apt</td>\n      <td>200</td>\n      <td>7</td>\n      <td>24</td>\n      <td>2019-03-16</td>\n      <td>0.17</td>\n      <td>3</td>\n      <td>131</td>\n    </tr>\n    <tr>\n      <th>1</th>\n      <td>5245</td>\n      <td>Eco friendly, Colorful, Clean, Cozy monthly share</td>\n      <td>2466</td>\n      <td>Paddy</td>\n      <td>NaN</td>\n      <td>78702</td>\n      <td>30.27577</td>\n      <td>-97.71379</td>\n      <td>Private room</td>\n      <td>114</td>\n      <td>30</td>\n      <td>9</td>\n      <td>2018-03-14</td>\n      <td>0.06</td>\n      <td>3</td>\n      <td>0</td>\n    </tr>\n    <tr>\n      <th>2</th>\n      <td>5456</td>\n      <td>Walk to 6th, Rainey St and Convention Ctr</td>\n      <td>8028</td>\n      <td>Sylvia</td>\n      <td>NaN</td>\n      <td>78702</td>\n      <td>30.26112</td>\n      <td>-97.73448</td>\n      <td>Entire home/apt</td>\n      <td>104</td>\n      <td>2</td>\n      <td>543</td>\n      <td>2021-02-01</td>\n      <td>3.74</td>\n      <td>1</td>\n      <td>354</td>\n    </tr>\n    <tr>\n      <th>3</th>\n      <td>5636</td>\n      <td>Soco, Barton Springs Private Guest Cottage</td>\n      <td>7148</td>\n      <td>Peggy</td>\n      <td>NaN</td>\n      <td>78704</td>\n      <td>30.24630</td>\n      <td>-97.76361</td>\n      <td>Entire home/apt</td>\n      <td>46</td>\n      <td>30</td>\n      <td>21</td>\n      <td>2020-11-06</td>\n      <td>0.15</td>\n      <td>2</td>\n      <td>67</td>\n    </tr>\n    <tr>\n      <th>4</th>\n      <td>5769</td>\n      <td>NW Austin Room</td>\n      <td>8186</td>\n      <td>Elizabeth</td>\n      <td>NaN</td>\n      <td>78729</td>\n      <td>30.45697</td>\n      <td>-97.78422</td>\n      <td>Private room</td>\n      <td>39</td>\n      <td>1</td>\n      <td>259</td>\n      <td>2021-02-10</td>\n      <td>1.96</td>\n      <td>1</td>\n      <td>79</td>\n    </tr>\n  </tbody>\n</table>\n</div>"
     },
     "metadata": {},
     "execution_count": 2
    }
   ],
   "source": [
    "listings = pd.read_csv(\"data/listings.csv\")\n",
    "listings.head()"
   ]
  },
  {
   "cell_type": "code",
   "execution_count": 4,
   "metadata": {},
   "outputs": [
    {
     "output_type": "stream",
     "name": "stdout",
     "text": [
      "There are 6773 unique host IDs\nRoom types - ['Entire home/apt' 'Hotel room' 'Private room' 'Shared room']\nTotal samples : 10272\n"
     ]
    }
   ],
   "source": [
    "host_names = list(listings['host_name'])\n",
    "host_ids = list(listings['host_id'])\n",
    "unique_host_ids = np.unique(host_ids)\n",
    "print(f\"There are {len(unique_host_ids)} unique host IDs\")\n",
    "room_types = np.unique(list(listings['room_type']))\n",
    "print(f\"Room types - {room_types}\")\n",
    "print(f\"Total samples : {len(host_names)}\")\n"
   ]
  },
  {
   "cell_type": "code",
   "execution_count": 26,
   "metadata": {},
   "outputs": [
    {
     "output_type": "stream",
     "name": "stdout",
     "text": [
      "Top 10 Neighbourhoods by Listings - \n\nNeighbourhood  | Listings\n~~~~~~~~~~~~~~~~~~~~~~~~~\n78745          | 26733\n78751          | 23334\n78758          | 22029\n78735          | 20357\n78702          | 19429\n78701          | 15938\n78704          | 13740\n78729          | 10191\n78754          | 6326\n78717          | 6299\n"
     ]
    }
   ],
   "source": [
    "neighbourhoods = list(listings['neighbourhood'])\n",
    "unique_neighbourhoods = np.unique(neighbourhoods)\n",
    "listings_by_neighbourhood = {n:0 for n in unique_neighbourhoods}\n",
    "listings_count = list(listings[\"calculated_host_listings_count\"])\n",
    "\n",
    "for i, lst in enumerate(listings_count):\n",
    "    listings_by_neighbourhood[neighbourhoods[i]]+=lst \n",
    "\n",
    "sorted_neighbourhood_tuples = sorted(listings_by_neighbourhood.items(), key = lambda x : x[1])\n",
    "print(\"Top 10 Neighbourhoods by Listings - \\n\")\n",
    "print(\"Neighbourhood  | Listings\")\n",
    "print(\"~\"*len(\"Neighbourhood  | Listings\"))\n",
    "for x, y in (sorted_neighbourhood_tuples[-10:][::-1]):\n",
    "    print(x, \"         |\", y)\n"
   ]
  },
  {
   "cell_type": "code",
   "execution_count": 6,
   "metadata": {},
   "outputs": [
    {
     "output_type": "execute_result",
     "data": {
      "text/plain": [
       "  neighbourhood neighbourhood_group  \\\n",
       "0         78739                None   \n",
       "1         78754                None   \n",
       "2         78732                None   \n",
       "3         78737                None   \n",
       "4         78756                None   \n",
       "\n",
       "                                            geometry  \n",
       "0  MULTIPOLYGON (((-97.89002 30.20941, -97.88929 ...  \n",
       "1  MULTIPOLYGON (((-97.63658 30.40266, -97.63754 ...  \n",
       "2  MULTIPOLYGON (((-97.87303 30.43806, -97.87335 ...  \n",
       "3  MULTIPOLYGON (((-98.01876 30.24167, -98.01617 ...  \n",
       "4  MULTIPOLYGON (((-97.72792 30.32906, -97.72760 ...  "
      ],
      "text/html": "<div>\n<style scoped>\n    .dataframe tbody tr th:only-of-type {\n        vertical-align: middle;\n    }\n\n    .dataframe tbody tr th {\n        vertical-align: top;\n    }\n\n    .dataframe thead th {\n        text-align: right;\n    }\n</style>\n<table border=\"1\" class=\"dataframe\">\n  <thead>\n    <tr style=\"text-align: right;\">\n      <th></th>\n      <th>neighbourhood</th>\n      <th>neighbourhood_group</th>\n      <th>geometry</th>\n    </tr>\n  </thead>\n  <tbody>\n    <tr>\n      <th>0</th>\n      <td>78739</td>\n      <td>None</td>\n      <td>MULTIPOLYGON (((-97.89002 30.20941, -97.88929 ...</td>\n    </tr>\n    <tr>\n      <th>1</th>\n      <td>78754</td>\n      <td>None</td>\n      <td>MULTIPOLYGON (((-97.63658 30.40266, -97.63754 ...</td>\n    </tr>\n    <tr>\n      <th>2</th>\n      <td>78732</td>\n      <td>None</td>\n      <td>MULTIPOLYGON (((-97.87303 30.43806, -97.87335 ...</td>\n    </tr>\n    <tr>\n      <th>3</th>\n      <td>78737</td>\n      <td>None</td>\n      <td>MULTIPOLYGON (((-98.01876 30.24167, -98.01617 ...</td>\n    </tr>\n    <tr>\n      <th>4</th>\n      <td>78756</td>\n      <td>None</td>\n      <td>MULTIPOLYGON (((-97.72792 30.32906, -97.72760 ...</td>\n    </tr>\n  </tbody>\n</table>\n</div>"
     },
     "metadata": {},
     "execution_count": 6
    }
   ],
   "source": [
    "import matplotlib.pyplot as plt\n",
    "geoframe = gpd.read_file(\"data/neighbourhoods.geojson\")\n",
    "geoframe.head()"
   ]
  },
  {
   "cell_type": "code",
   "execution_count": null,
   "metadata": {},
   "outputs": [],
   "source": []
  },
  {
   "source": [
    "## #2 Thematic Map"
   ],
   "cell_type": "markdown",
   "metadata": {}
  },
  {
   "cell_type": "code",
   "execution_count": 12,
   "metadata": {},
   "outputs": [
    {
     "output_type": "execute_result",
     "data": {
      "text/plain": [
       "44"
      ]
     },
     "metadata": {},
     "execution_count": 12
    }
   ],
   "source": [
    "# Adding required columns to the geoframe.\n",
    "len(list(geoframe['neighbourhood']))"
   ]
  },
  {
   "source": [
    "## #3 Top 10 Hosts"
   ],
   "cell_type": "markdown",
   "metadata": {}
  },
  {
   "cell_type": "code",
   "execution_count": 8,
   "metadata": {},
   "outputs": [
    {
     "output_type": "stream",
     "name": "stdout",
     "text": [
      "[(124060715, 1444), (368944610, 1600), (210733801, 1849), (194953121, 2025), (346827202, 2304), (118565935, 3136), (8167447, 6561), (109638288, 6724), (104309976, 17161), (359036978, 128164)]\n"
     ]
    }
   ],
   "source": [
    "listings_count = list(listings[\"calculated_host_listings_count\"])\n",
    "host_listings = {id:0 for id in unique_host_ids}\n",
    "for i in range(len(listings_count)):\n",
    "    host_listings[host_ids[i]]+=listings_count[i]\n",
    "\n",
    "sorted_tuples = sorted(host_listings.items(), key=lambda x : x[1])\n",
    "print(sorted_tuples[-10:])"
   ]
  },
  {
   "cell_type": "code",
   "execution_count": 9,
   "metadata": {
    "tags": []
   },
   "outputs": [
    {
     "output_type": "stream",
     "name": "stdout",
     "text": [
      "The top 10 hosts by listings are : \n"
     ]
    },
    {
     "output_type": "execute_result",
     "data": {
      "text/plain": [
       "     Host_ID                      Name  Listings\n",
       "0  359036978                       Kia    128164\n",
       "1  104309976               WanderJaunt     17161\n",
       "2  109638288  TurnKey Vacation Rentals      6724\n",
       "3    8167447                    Martin      6561\n",
       "4  118565935              Renters Club      3136\n",
       "5  346827202                  Madalynn      2304\n",
       "6  194953121                 Christian      2025\n",
       "7  210733801                     Above      1849\n",
       "8  368944610                       Kia      1600\n",
       "9  124060715    Evolve Vacation Rental      1444"
      ],
      "text/html": "<div>\n<style scoped>\n    .dataframe tbody tr th:only-of-type {\n        vertical-align: middle;\n    }\n\n    .dataframe tbody tr th {\n        vertical-align: top;\n    }\n\n    .dataframe thead th {\n        text-align: right;\n    }\n</style>\n<table border=\"1\" class=\"dataframe\">\n  <thead>\n    <tr style=\"text-align: right;\">\n      <th></th>\n      <th>Host_ID</th>\n      <th>Name</th>\n      <th>Listings</th>\n    </tr>\n  </thead>\n  <tbody>\n    <tr>\n      <th>0</th>\n      <td>359036978</td>\n      <td>Kia</td>\n      <td>128164</td>\n    </tr>\n    <tr>\n      <th>1</th>\n      <td>104309976</td>\n      <td>WanderJaunt</td>\n      <td>17161</td>\n    </tr>\n    <tr>\n      <th>2</th>\n      <td>109638288</td>\n      <td>TurnKey Vacation Rentals</td>\n      <td>6724</td>\n    </tr>\n    <tr>\n      <th>3</th>\n      <td>8167447</td>\n      <td>Martin</td>\n      <td>6561</td>\n    </tr>\n    <tr>\n      <th>4</th>\n      <td>118565935</td>\n      <td>Renters Club</td>\n      <td>3136</td>\n    </tr>\n    <tr>\n      <th>5</th>\n      <td>346827202</td>\n      <td>Madalynn</td>\n      <td>2304</td>\n    </tr>\n    <tr>\n      <th>6</th>\n      <td>194953121</td>\n      <td>Christian</td>\n      <td>2025</td>\n    </tr>\n    <tr>\n      <th>7</th>\n      <td>210733801</td>\n      <td>Above</td>\n      <td>1849</td>\n    </tr>\n    <tr>\n      <th>8</th>\n      <td>368944610</td>\n      <td>Kia</td>\n      <td>1600</td>\n    </tr>\n    <tr>\n      <th>9</th>\n      <td>124060715</td>\n      <td>Evolve Vacation Rental</td>\n      <td>1444</td>\n    </tr>\n  </tbody>\n</table>\n</div>"
     },
     "metadata": {},
     "execution_count": 9
    }
   ],
   "source": [
    "print(\"The top 10 hosts by listings are : \")\n",
    "id10, lst10, name10 = [], [], []\n",
    "for x in sorted_tuples[-10:][::-1]:\n",
    "    id, lst = x\n",
    "    id10.append(id); lst10.append(lst)\n",
    "    name = host_names[host_ids.index(id)]\n",
    "    name10.append(name)\n",
    "top10_df = pd.DataFrame(data = {\"Host_ID\":id10, \"Name\": name10,  \"Listings\":lst10})\n",
    "top10_df.head(10)"
   ]
  },
  {
   "source": [
    "## #4 Personal Metric\n"
   ],
   "cell_type": "markdown",
   "metadata": {}
  },
  {
   "cell_type": "code",
   "execution_count": null,
   "metadata": {},
   "outputs": [],
   "source": []
  }
 ]
}